{
  "nbformat": 4,
  "nbformat_minor": 0,
  "metadata": {
    "colab": {
      "name": "Untitled2.ipynb",
      "provenance": []
    },
    "kernelspec": {
      "name": "python3",
      "display_name": "Python 3"
    }
  },
  "cells": [
    {
      "cell_type": "code",
      "metadata": {
        "id": "IwgpbDbdmHMO",
        "colab_type": "code",
        "colab": {
          "base_uri": "https://localhost:8080/",
          "height": 51
        },
        "outputId": "1f34ede2-6e48-454b-88fb-ce6d54eba61d"
      },
      "source": [
        "pip install -q PyYaml==5.3.1"
      ],
      "execution_count": null,
      "outputs": [
        {
          "output_type": "stream",
          "text": [
            "\u001b[?25l\r\u001b[K     |█▏                              | 10kB 15.2MB/s eta 0:00:01\r\u001b[K     |██▍                             | 20kB 2.3MB/s eta 0:00:01\r\u001b[K     |███▋                            | 30kB 2.9MB/s eta 0:00:01\r\u001b[K     |████▉                           | 40kB 3.1MB/s eta 0:00:01\r\u001b[K     |██████                          | 51kB 2.5MB/s eta 0:00:01\r\u001b[K     |███████▎                        | 61kB 2.8MB/s eta 0:00:01\r\u001b[K     |████████▌                       | 71kB 3.0MB/s eta 0:00:01\r\u001b[K     |█████████▊                      | 81kB 3.3MB/s eta 0:00:01\r\u001b[K     |███████████                     | 92kB 3.5MB/s eta 0:00:01\r\u001b[K     |████████████▏                   | 102kB 3.4MB/s eta 0:00:01\r\u001b[K     |█████████████▍                  | 112kB 3.4MB/s eta 0:00:01\r\u001b[K     |██████████████▋                 | 122kB 3.4MB/s eta 0:00:01\r\u001b[K     |███████████████▉                | 133kB 3.4MB/s eta 0:00:01\r\u001b[K     |█████████████████               | 143kB 3.4MB/s eta 0:00:01\r\u001b[K     |██████████████████▎             | 153kB 3.4MB/s eta 0:00:01\r\u001b[K     |███████████████████▌            | 163kB 3.4MB/s eta 0:00:01\r\u001b[K     |████████████████████▊           | 174kB 3.4MB/s eta 0:00:01\r\u001b[K     |██████████████████████          | 184kB 3.4MB/s eta 0:00:01\r\u001b[K     |███████████████████████▏        | 194kB 3.4MB/s eta 0:00:01\r\u001b[K     |████████████████████████▎       | 204kB 3.4MB/s eta 0:00:01\r\u001b[K     |█████████████████████████▌      | 215kB 3.4MB/s eta 0:00:01\r\u001b[K     |██████████████████████████▊     | 225kB 3.4MB/s eta 0:00:01\r\u001b[K     |████████████████████████████    | 235kB 3.4MB/s eta 0:00:01\r\u001b[K     |█████████████████████████████▏  | 245kB 3.4MB/s eta 0:00:01\r\u001b[K     |██████████████████████████████▍ | 256kB 3.4MB/s eta 0:00:01\r\u001b[K     |███████████████████████████████▋| 266kB 3.4MB/s eta 0:00:01\r\u001b[K     |████████████████████████████████| 276kB 3.4MB/s \n",
            "\u001b[?25h  Building wheel for PyYaml (setup.py) ... \u001b[?25l\u001b[?25hdone\n"
          ],
          "name": "stdout"
        }
      ]
    },
    {
      "cell_type": "code",
      "metadata": {
        "id": "yIwIWxi_mucm",
        "colab_type": "code",
        "colab": {
          "base_uri": "https://localhost:8080/",
          "height": 102
        },
        "outputId": "2ce1b15f-899e-43a6-e879-cc2fe063d362"
      },
      "source": [
        "pip install -q rnnmorph==0.4.0"
      ],
      "execution_count": null,
      "outputs": [
        {
          "output_type": "stream",
          "text": [
            "\u001b[K     |████████████████████████████████| 10.5MB 3.2MB/s \n",
            "\u001b[K     |████████████████████████████████| 51kB 3.4MB/s \n",
            "\u001b[K     |████████████████████████████████| 7.1MB 46.4MB/s \n",
            "\u001b[?25h  Building wheel for rnnmorph (setup.py) ... \u001b[?25l\u001b[?25hdone\n",
            "  Building wheel for russian-tagsets (setup.py) ... \u001b[?25l\u001b[?25hdone\n"
          ],
          "name": "stdout"
        }
      ]
    },
    {
      "cell_type": "code",
      "metadata": {
        "id": "tkRAbexDm0Cc",
        "colab_type": "code",
        "colab": {
          "base_uri": "https://localhost:8080/",
          "height": 122
        },
        "outputId": "be4980c4-d404-4f8b-8356-5f16d362cd70"
      },
      "source": [
        "%tensorflow_version 1.x\n",
        "import warnings\n",
        "warnings.filterwarnings('ignore')\n",
        "\n",
        "from rnnmorph.predictor import RNNMorphPredictor\n",
        "predictor = RNNMorphPredictor(language=\"ru\")"
      ],
      "execution_count": null,
      "outputs": [
        {
          "output_type": "stream",
          "text": [
            "TensorFlow 1.x selected.\n"
          ],
          "name": "stdout"
        },
        {
          "output_type": "stream",
          "text": [
            "Using TensorFlow backend.\n"
          ],
          "name": "stderr"
        },
        {
          "output_type": "stream",
          "text": [
            "WARNING:tensorflow:From /tensorflow-1.15.2/python3.6/tensorflow_core/python/ops/resource_variable_ops.py:1630: calling BaseResourceVariable.__init__ (from tensorflow.python.ops.resource_variable_ops) with constraint is deprecated and will be removed in a future version.\n",
            "Instructions for updating:\n",
            "If using Keras pass *_constraint arguments to layers.\n"
          ],
          "name": "stdout"
        }
      ]
    },
    {
      "cell_type": "code",
      "metadata": {
        "id": "I0TsSOPLV6wO",
        "colab_type": "code",
        "colab": {}
      },
      "source": [
        ""
      ],
      "execution_count": null,
      "outputs": []
    },
    {
      "cell_type": "code",
      "metadata": {
        "id": "iFwYz5z0m8A1",
        "colab_type": "code",
        "colab": {}
      },
      "source": [
        "DATA_URL = \"http://az.lib.ru/t/tolstoj_a_k/text_0180.shtml\""
      ],
      "execution_count": null,
      "outputs": []
    },
    {
      "cell_type": "code",
      "metadata": {
        "id": "PFt1xXPOm9An",
        "colab_type": "code",
        "colab": {}
      },
      "source": [
        "import urllib.request\n",
        "\n",
        "opener = urllib.request.URLopener({})\n",
        "resource = opener.open(DATA_URL)\n",
        "# Текс с html тегами\n",
        "raw_text = resource.read().decode(resource.headers.get_content_charset())"
      ],
      "execution_count": null,
      "outputs": []
    },
    {
      "cell_type": "code",
      "metadata": {
        "id": "58tqVKSlnECZ",
        "colab_type": "code",
        "colab": {}
      },
      "source": [
        "import re\n",
        "\n",
        "clean_pattern = re.compile(\"<.*?>\")\n",
        "\n",
        "def clean_html(raw_html: str):\n",
        "  clean_text = re.sub(clean_pattern, \" \", raw_html)\n",
        "  return clean_text\n",
        "\n",
        "cleaned_text = clean_html(raw_text)  # Текс без html тегов"
      ],
      "execution_count": null,
      "outputs": []
    },
    {
      "cell_type": "code",
      "metadata": {
        "id": "0Tc7N14CnHCa",
        "colab_type": "code",
        "colab": {
          "base_uri": "https://localhost:8080/",
          "height": 68
        },
        "outputId": "0684a64c-3344-4206-ede7-5b33b608aab9"
      },
      "source": [
        "from nltk.tokenize import sent_tokenize, word_tokenize\n",
        "import nltk\n",
        "nltk.download('punkt')\n",
        "\n",
        "tokenized_sentences = [word_tokenize(sentence) for sentence in sent_tokenize(cleaned_text)]\n",
        "\"A total of %d 'sentences'\" % len(tokenized_sentences)"
      ],
      "execution_count": null,
      "outputs": [
        {
          "output_type": "stream",
          "text": [
            "[nltk_data] Downloading package punkt to /root/nltk_data...\n",
            "[nltk_data]   Unzipping tokenizers/punkt.zip.\n"
          ],
          "name": "stdout"
        },
        {
          "output_type": "execute_result",
          "data": {
            "text/plain": [
              "\"A total of 576 'sentences'\""
            ]
          },
          "metadata": {
            "tags": []
          },
          "execution_count": 7
        }
      ]
    },
    {
      "cell_type": "code",
      "metadata": {
        "id": "4cr-clsnnK5g",
        "colab_type": "code",
        "colab": {
          "base_uri": "https://localhost:8080/",
          "height": 88
        },
        "outputId": "eb18164c-fe93-4529-f1e2-9ebc7be0d277"
      },
      "source": [
        "from tqdm import tqdm\n",
        "predictions = [[pred.normal_form for pred in sent if str(pred.normal_form).isalpha()] \n",
        "               for sent in tqdm(predictor.predict_sentences(sentences=tokenized_sentences), \"sentences\")]"
      ],
      "execution_count": null,
      "outputs": [
        {
          "output_type": "stream",
          "text": [
            "WARNING:tensorflow:From /usr/local/lib/python3.6/dist-packages/keras/backend/tensorflow_backend.py:422: The name tf.global_variables is deprecated. Please use tf.compat.v1.global_variables instead.\n",
            "\n"
          ],
          "name": "stdout"
        },
        {
          "output_type": "stream",
          "text": [
            "sentences: 100%|██████████| 576/576 [00:00<00:00, 103407.91it/s]\n"
          ],
          "name": "stderr"
        }
      ]
    },
    {
      "cell_type": "code",
      "metadata": {
        "id": "AfshsIPrqo-u",
        "colab_type": "code",
        "colab": {
          "base_uri": "https://localhost:8080/",
          "height": 34
        },
        "outputId": "c0d19db1-6fd2-4790-d925-d7c284edcf09"
      },
      "source": [
        "len(predictions)"
      ],
      "execution_count": null,
      "outputs": [
        {
          "output_type": "execute_result",
          "data": {
            "text/plain": [
              "576"
            ]
          },
          "metadata": {
            "tags": []
          },
          "execution_count": 9
        }
      ]
    },
    {
      "cell_type": "code",
      "metadata": {
        "id": "Wd1u9sT7qsNM",
        "colab_type": "code",
        "colab": {
          "base_uri": "https://localhost:8080/",
          "height": 34
        },
        "outputId": "514c39ef-cc42-41cc-eafc-fa0fb8d48c9a"
      },
      "source": [
        "non_uniq_tokens = [word for sentence in predictions for word in sentence]\n",
        "len(non_uniq_tokens)"
      ],
      "execution_count": null,
      "outputs": [
        {
          "output_type": "execute_result",
          "data": {
            "text/plain": [
              "8637"
            ]
          },
          "metadata": {
            "tags": []
          },
          "execution_count": 10
        }
      ]
    },
    {
      "cell_type": "code",
      "metadata": {
        "id": "pCvU15UJHGq4",
        "colab_type": "code",
        "colab": {
          "base_uri": "https://localhost:8080/",
          "height": 51
        },
        "outputId": "d1881a7e-f71e-40fd-bd90-63cec38f8088"
      },
      "source": [
        "import nltk\n",
        "from nltk import FreqDist\n",
        "from nltk.corpus import stopwords\n",
        "nltk.download(\"stopwords\")\n",
        "STOPWORDS = set(stopwords.words(\"russian\"))"
      ],
      "execution_count": null,
      "outputs": [
        {
          "output_type": "stream",
          "text": [
            "[nltk_data] Downloading package stopwords to /root/nltk_data...\n",
            "[nltk_data]   Unzipping corpora/stopwords.zip.\n"
          ],
          "name": "stdout"
        }
      ]
    },
    {
      "cell_type": "code",
      "metadata": {
        "id": "ks5kUXUwKiUz",
        "colab_type": "code",
        "colab": {
          "base_uri": "https://localhost:8080/",
          "height": 34
        },
        "outputId": "c2f5b4e9-46d1-4f12-f0c3-3d2383d813c0"
      },
      "source": [
        "len(list(set(list(tok for tok in non_uniq_tokens if non_uniq_tokens.count(tok) >= 50))))"
      ],
      "execution_count": null,
      "outputs": [
        {
          "output_type": "execute_result",
          "data": {
            "text/plain": [
              "22"
            ]
          },
          "metadata": {
            "tags": []
          },
          "execution_count": 12
        }
      ]
    },
    {
      "cell_type": "code",
      "metadata": {
        "id": "lqBEoq9mM0Tg",
        "colab_type": "code",
        "colab": {}
      },
      "source": [
        "from operator import itemgetter"
      ],
      "execution_count": null,
      "outputs": []
    },
    {
      "cell_type": "code",
      "metadata": {
        "id": "Hru-wb9tM1xZ",
        "colab_type": "code",
        "colab": {}
      },
      "source": [
        "fr_items = FreqDist(non_uniq_tokens)\n",
        "fr_lst = list([word, freq] for word, freq in fr_items.items())"
      ],
      "execution_count": null,
      "outputs": []
    },
    {
      "cell_type": "code",
      "metadata": {
        "id": "Hwgkpiu0OI3C",
        "colab_type": "code",
        "colab": {}
      },
      "source": [
        "fr_lst.sort(key=itemgetter(1), reverse=True)"
      ],
      "execution_count": null,
      "outputs": []
    },
    {
      "cell_type": "code",
      "metadata": {
        "id": "k3fYRy_vOdO4",
        "colab_type": "code",
        "colab": {}
      },
      "source": [
        "fr_lst2 = list(word for word, freq in fr_lst[0:100])"
      ],
      "execution_count": null,
      "outputs": []
    },
    {
      "cell_type": "code",
      "metadata": {
        "id": "x3kIupfmPYCC",
        "colab_type": "code",
        "colab": {}
      },
      "source": [
        "fr_lst3 = list(word for word in fr_lst2 if word not in STOPWORDS)"
      ],
      "execution_count": null,
      "outputs": []
    },
    {
      "cell_type": "code",
      "metadata": {
        "id": "rCd50v9cQnH4",
        "colab_type": "code",
        "colab": {
          "base_uri": "https://localhost:8080/",
          "height": 34
        },
        "outputId": "00be26de-ae3f-49eb-916b-ca6fdf3b2dbf"
      },
      "source": [
        "len(fr_lst3)/len(fr_lst2)"
      ],
      "execution_count": null,
      "outputs": [
        {
          "output_type": "execute_result",
          "data": {
            "text/plain": [
              "0.49"
            ]
          },
          "metadata": {
            "tags": []
          },
          "execution_count": 29
        }
      ]
    },
    {
      "cell_type": "code",
      "metadata": {
        "id": "YhM1vxu7V9VE",
        "colab_type": "code",
        "colab": {}
      },
      "source": [
        "DATA_URL = 'http://az.lib.ru/t/turgenew_i_s/text_0070.shtml'"
      ],
      "execution_count": null,
      "outputs": []
    },
    {
      "cell_type": "code",
      "metadata": {
        "id": "v-bwdLCPWRUo",
        "colab_type": "code",
        "colab": {
          "base_uri": "https://localhost:8080/",
          "height": 51
        },
        "outputId": "d0bb1cd5-6069-48bb-b89e-6225fc26a909"
      },
      "source": [
        "resource = opener.open(DATA_URL)\n",
        "# Текс с html тегами\n",
        "raw_text = resource.read().decode(resource.headers.get_content_charset())\n",
        "clean_pattern = re.compile(\"<.*?>\")\n",
        "cleaned_text = clean_html(raw_text)  # Текс без html тегов\n",
        "nltk.download('punkt')\n",
        "tokenized_sentences = [word_tokenize(sentence) for sentence in sent_tokenize(cleaned_text)]"
      ],
      "execution_count": null,
      "outputs": [
        {
          "output_type": "stream",
          "text": [
            "[nltk_data] Downloading package punkt to /root/nltk_data...\n",
            "[nltk_data]   Package punkt is already up-to-date!\n"
          ],
          "name": "stdout"
        }
      ]
    },
    {
      "cell_type": "code",
      "metadata": {
        "id": "e4UFLyFwWqOq",
        "colab_type": "code",
        "colab": {
          "base_uri": "https://localhost:8080/",
          "height": 34
        },
        "outputId": "e98f11ce-e7d8-4210-a9cf-5354b68a7b1d"
      },
      "source": [
        "predictions = [[pred.normal_form for pred in sent if str(pred.normal_form).isalpha()] \n",
        "               for sent in tqdm(predictor.predict_sentences(sentences=tokenized_sentences), \"sentences\")]\n",
        "non_uniq_tokens = [word for sentence in predictions for word in sentence]"
      ],
      "execution_count": null,
      "outputs": [
        {
          "output_type": "stream",
          "text": [
            "sentences: 100%|██████████| 533/533 [00:00<00:00, 46182.66it/s]\n"
          ],
          "name": "stderr"
        }
      ]
    },
    {
      "cell_type": "code",
      "metadata": {
        "id": "kMp8f4BiXECi",
        "colab_type": "code",
        "colab": {
          "base_uri": "https://localhost:8080/",
          "height": 34
        },
        "outputId": "13dba31f-f320-4840-f366-b65c46117231"
      },
      "source": [
        "fr_items = FreqDist(non_uniq_tokens)\n",
        "words_lstt = ['глухонемой', 'дворецкий', 'рука', 'глаз']\n",
        "fr_lst = list([word, freq] for word, freq in fr_items.items() if word in words_lstt)\n",
        "fr_lst"
      ],
      "execution_count": null,
      "outputs": [
        {
          "output_type": "execute_result",
          "data": {
            "text/plain": [
              "[['глухонемой', 3], ['рука', 37], ['дворецкий', 20], ['глаз', 18]]"
            ]
          },
          "metadata": {
            "tags": []
          },
          "execution_count": 34
        }
      ]
    }
  ]
}